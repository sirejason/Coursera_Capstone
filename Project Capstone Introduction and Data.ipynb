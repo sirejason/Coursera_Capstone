{
    "nbformat_minor": 1, 
    "cells": [
        {
            "source": "## Description", 
            "cell_type": "markdown", 
            "metadata": {
                "collapsed": true
            }
        }, 
        {
            "source": "Assume that you represent an education organization which aims to improve the education system by collecting and analyzing information on different universities.\n\nThis mission involves paying visits to universities in different cities.\n\nIn order to make the best use of the limited time and budget, it might be helpful have a scheduler that allows you to visit universities in the same areas each time. \n\nIn this case, I'll use the universities in San Francisco as an example.", 
            "cell_type": "markdown", 
            "metadata": {}
        }, 
        {
            "source": "## Data", 
            "cell_type": "markdown", 
            "metadata": {
                "collapsed": true
            }
        }, 
        {
            "source": "In order to perform such task,\n* I'll be using Geocoders to obtain coordinates of the city. \n* I'll be using the Foursquare API to obtain name and coordinates information from the venue information.\n* A k-means clustering will be applied to segment the universities based on their coordinates information.", 
            "cell_type": "markdown", 
            "metadata": {}
        }, 
        {
            "source": "", 
            "cell_type": "code", 
            "metadata": {}, 
            "outputs": [], 
            "execution_count": null
        }
    ], 
    "metadata": {
        "kernelspec": {
            "display_name": "Python 3.5", 
            "name": "python3", 
            "language": "python"
        }, 
        "language_info": {
            "mimetype": "text/x-python", 
            "nbconvert_exporter": "python", 
            "version": "3.5.5", 
            "name": "python", 
            "file_extension": ".py", 
            "pygments_lexer": "ipython3", 
            "codemirror_mode": {
                "version": 3, 
                "name": "ipython"
            }
        }
    }, 
    "nbformat": 4
}