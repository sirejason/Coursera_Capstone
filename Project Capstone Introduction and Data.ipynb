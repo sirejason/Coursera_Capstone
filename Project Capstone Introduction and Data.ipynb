{
    "nbformat_minor": 1, 
    "cells": [
        {
            "source": "## Description", 
            "cell_type": "markdown", 
            "metadata": {
                "collapsed": true
            }
        }, 
        {
            "source": "Assume that you represent an education organization which aims to improve the education system by collecting and analyzing information on different universities.\n\nThis mission involves paying visits to universities in different cities.\n\nIn order to make the best use of the limited time and budget, it might be helpful have a scheduler that allows you to visit universities in the same areas each time. \n\nIn this case, I'll use the universities in San Francisco as an example.", 
            "cell_type": "markdown", 
            "metadata": {}
        }, 
        {
            "source": "## Data", 
            "cell_type": "markdown", 
            "metadata": {
                "collapsed": true
            }
        }, 
        {
            "source": "In order to perform such task,\n* I'll be using Geocoders to obtain coordinates of the city. \n* I'll be using the Foursquare API to obtain name and coordinates information from the venue information.\n* A k-means clustering will be used to segement the univercities based on their distant to each other.", 
            "cell_type": "markdown", 
            "metadata": {}
        }, 
        {
            "source": "A description of the problem and a discussion of the background. (15 marks)\n\nA description of the data and how it will be used to solve the problem. (15 marks)\n\nFor the second week, the final deliverables of the project will be:\n\nA link to your Notebook on your Github repository, showing your code. (15 marks)\n\nA full report consisting of all of the following components (15 marks):\n\nIntroduction where you discuss the business problem and who would be interested in this project.\n\nData where you describe the data that will be used to solve the problem and the source of the data.\n\nMethodology section which represents the main component of the report where you discuss and describe any exploratory data analysis that you did, any inferential statistical testing that you performed, and what machine learnings were used and why.\n\nResults section where you discuss the results.\n\nDiscussion section where you discuss any observations you noted and any recommendations you can make based on the results.\n\nConclusion section where you conclude the report.\n\n3. Your choice of a presentation or blogpost. (10 marks)", 
            "cell_type": "markdown", 
            "metadata": {}
        }, 
        {
            "source": "", 
            "cell_type": "code", 
            "metadata": {}, 
            "outputs": [], 
            "execution_count": null
        }
    ], 
    "metadata": {
        "kernelspec": {
            "display_name": "Python 3.5", 
            "name": "python3", 
            "language": "python"
        }, 
        "language_info": {
            "mimetype": "text/x-python", 
            "nbconvert_exporter": "python", 
            "version": "3.5.5", 
            "name": "python", 
            "file_extension": ".py", 
            "pygments_lexer": "ipython3", 
            "codemirror_mode": {
                "version": 3, 
                "name": "ipython"
            }
        }
    }, 
    "nbformat": 4
}